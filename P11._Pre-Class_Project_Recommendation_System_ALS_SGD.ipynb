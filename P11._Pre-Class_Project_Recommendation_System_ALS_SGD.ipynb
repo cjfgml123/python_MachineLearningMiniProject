{
 "cells": [
  {
   "cell_type": "code",
   "execution_count": 44,
   "metadata": {
    "collapsed": true
   },
   "outputs": [],
   "source": [
    "import numpy as np\n",
    "import pandas as pd\n",
    "import copy\n",
    "import collections\n",
    "from scipy import linalg\n",
    "import math\n",
    "from collections import defaultdict"
   ]
  },
  {
   "cell_type": "code",
   "execution_count": 45,
   "metadata": {
    "collapsed": true
   },
   "outputs": [],
   "source": [
    "#data\n",
    "# index[0]:user_id, index[1]:movie_id, index[2]:ratings\n",
    "df = pd.read_csv('./ml-100k/u.data',sep='\\t',header=None)"
   ]
  },
  {
   "cell_type": "code",
   "execution_count": 46,
   "metadata": {
    "collapsed": false
   },
   "outputs": [
    {
     "data": {
      "text/html": [
       "<div>\n",
       "<style>\n",
       "    .dataframe thead tr:only-child th {\n",
       "        text-align: right;\n",
       "    }\n",
       "\n",
       "    .dataframe thead th {\n",
       "        text-align: left;\n",
       "    }\n",
       "\n",
       "    .dataframe tbody tr th {\n",
       "        vertical-align: top;\n",
       "    }\n",
       "</style>\n",
       "<table border=\"1\" class=\"dataframe\">\n",
       "  <thead>\n",
       "    <tr style=\"text-align: right;\">\n",
       "      <th></th>\n",
       "      <th>0</th>\n",
       "      <th>1</th>\n",
       "      <th>2</th>\n",
       "      <th>3</th>\n",
       "    </tr>\n",
       "  </thead>\n",
       "  <tbody>\n",
       "    <tr>\n",
       "      <th>0</th>\n",
       "      <td>196</td>\n",
       "      <td>242</td>\n",
       "      <td>3</td>\n",
       "      <td>881250949</td>\n",
       "    </tr>\n",
       "    <tr>\n",
       "      <th>1</th>\n",
       "      <td>186</td>\n",
       "      <td>302</td>\n",
       "      <td>3</td>\n",
       "      <td>891717742</td>\n",
       "    </tr>\n",
       "    <tr>\n",
       "      <th>2</th>\n",
       "      <td>22</td>\n",
       "      <td>377</td>\n",
       "      <td>1</td>\n",
       "      <td>878887116</td>\n",
       "    </tr>\n",
       "  </tbody>\n",
       "</table>\n",
       "</div>"
      ],
      "text/plain": [
       "     0    1  2          3\n",
       "0  196  242  3  881250949\n",
       "1  186  302  3  891717742\n",
       "2   22  377  1  878887116"
      ]
     },
     "execution_count": 46,
     "metadata": {},
     "output_type": "execute_result"
    }
   ],
   "source": [
    "df.head(3)"
   ]
  },
  {
   "cell_type": "code",
   "execution_count": 47,
   "metadata": {
    "collapsed": true
   },
   "outputs": [],
   "source": [
    "#movie list\n",
    "df_info = pd.read_csv('./ml-100k/u.item',sep='|',header=None, encoding=\"ISO-8859-1\")"
   ]
  },
  {
   "cell_type": "code",
   "execution_count": 48,
   "metadata": {
    "collapsed": false
   },
   "outputs": [
    {
     "data": {
      "text/html": [
       "<div>\n",
       "<style>\n",
       "    .dataframe thead tr:only-child th {\n",
       "        text-align: right;\n",
       "    }\n",
       "\n",
       "    .dataframe thead th {\n",
       "        text-align: left;\n",
       "    }\n",
       "\n",
       "    .dataframe tbody tr th {\n",
       "        vertical-align: top;\n",
       "    }\n",
       "</style>\n",
       "<table border=\"1\" class=\"dataframe\">\n",
       "  <thead>\n",
       "    <tr style=\"text-align: right;\">\n",
       "      <th></th>\n",
       "      <th>0</th>\n",
       "      <th>1</th>\n",
       "      <th>2</th>\n",
       "      <th>3</th>\n",
       "      <th>4</th>\n",
       "      <th>5</th>\n",
       "      <th>6</th>\n",
       "      <th>7</th>\n",
       "      <th>8</th>\n",
       "      <th>9</th>\n",
       "      <th>...</th>\n",
       "      <th>14</th>\n",
       "      <th>15</th>\n",
       "      <th>16</th>\n",
       "      <th>17</th>\n",
       "      <th>18</th>\n",
       "      <th>19</th>\n",
       "      <th>20</th>\n",
       "      <th>21</th>\n",
       "      <th>22</th>\n",
       "      <th>23</th>\n",
       "    </tr>\n",
       "  </thead>\n",
       "  <tbody>\n",
       "    <tr>\n",
       "      <th>0</th>\n",
       "      <td>1</td>\n",
       "      <td>Toy Story (1995)</td>\n",
       "      <td>01-Jan-1995</td>\n",
       "      <td>NaN</td>\n",
       "      <td>http://us.imdb.com/M/title-exact?Toy%20Story%2...</td>\n",
       "      <td>0</td>\n",
       "      <td>0</td>\n",
       "      <td>0</td>\n",
       "      <td>1</td>\n",
       "      <td>1</td>\n",
       "      <td>...</td>\n",
       "      <td>0</td>\n",
       "      <td>0</td>\n",
       "      <td>0</td>\n",
       "      <td>0</td>\n",
       "      <td>0</td>\n",
       "      <td>0</td>\n",
       "      <td>0</td>\n",
       "      <td>0</td>\n",
       "      <td>0</td>\n",
       "      <td>0</td>\n",
       "    </tr>\n",
       "    <tr>\n",
       "      <th>1</th>\n",
       "      <td>2</td>\n",
       "      <td>GoldenEye (1995)</td>\n",
       "      <td>01-Jan-1995</td>\n",
       "      <td>NaN</td>\n",
       "      <td>http://us.imdb.com/M/title-exact?GoldenEye%20(...</td>\n",
       "      <td>0</td>\n",
       "      <td>1</td>\n",
       "      <td>1</td>\n",
       "      <td>0</td>\n",
       "      <td>0</td>\n",
       "      <td>...</td>\n",
       "      <td>0</td>\n",
       "      <td>0</td>\n",
       "      <td>0</td>\n",
       "      <td>0</td>\n",
       "      <td>0</td>\n",
       "      <td>0</td>\n",
       "      <td>0</td>\n",
       "      <td>1</td>\n",
       "      <td>0</td>\n",
       "      <td>0</td>\n",
       "    </tr>\n",
       "  </tbody>\n",
       "</table>\n",
       "<p>2 rows × 24 columns</p>\n",
       "</div>"
      ],
      "text/plain": [
       "   0                 1            2   3   \\\n",
       "0   1  Toy Story (1995)  01-Jan-1995 NaN   \n",
       "1   2  GoldenEye (1995)  01-Jan-1995 NaN   \n",
       "\n",
       "                                                  4   5   6   7   8   9  ...  \\\n",
       "0  http://us.imdb.com/M/title-exact?Toy%20Story%2...   0   0   0   1   1 ...   \n",
       "1  http://us.imdb.com/M/title-exact?GoldenEye%20(...   0   1   1   0   0 ...   \n",
       "\n",
       "   14  15  16  17  18  19  20  21  22  23  \n",
       "0   0   0   0   0   0   0   0   0   0   0  \n",
       "1   0   0   0   0   0   0   0   1   0   0  \n",
       "\n",
       "[2 rows x 24 columns]"
      ]
     },
     "execution_count": 48,
     "metadata": {},
     "output_type": "execute_result"
    }
   ],
   "source": [
    "df_info.head(2)"
   ]
  },
  {
   "cell_type": "code",
   "execution_count": 49,
   "metadata": {
    "collapsed": true
   },
   "outputs": [],
   "source": [
    "movielist = [df_info[1].tolist()[indx]+';'+str(indx+1) for indx in range(len(df_info[1].tolist()))]"
   ]
  },
  {
   "cell_type": "code",
   "execution_count": 50,
   "metadata": {
    "collapsed": false
   },
   "outputs": [
    {
     "name": "stdout",
     "output_type": "stream",
     "text": [
      "Movie counts: 1682, User counts: 943\n"
     ]
    }
   ],
   "source": [
    "nmovies = len(movielist)\n",
    "nusers = len(df[0].drop_duplicates().tolist())\n",
    "print(\"Movie counts: {}, User counts: {}\".format(nmovies, nusers))"
   ]
  },
  {
   "cell_type": "code",
   "execution_count": 51,
   "metadata": {
    "collapsed": true
   },
   "outputs": [],
   "source": [
    "min_ratings = 50\n",
    "movies_rated  = list(df[1])\n",
    "counts = collections.Counter(movies_rated)"
   ]
  },
  {
   "cell_type": "code",
   "execution_count": 52,
   "metadata": {
    "collapsed": false
   },
   "outputs": [],
   "source": [
    "dfout = pd.DataFrame(columns=['user']+movielist)"
   ]
  },
  {
   "cell_type": "code",
   "execution_count": 53,
   "metadata": {
    "collapsed": false
   },
   "outputs": [
    {
     "data": {
      "text/html": [
       "<div>\n",
       "<style>\n",
       "    .dataframe thead tr:only-child th {\n",
       "        text-align: right;\n",
       "    }\n",
       "\n",
       "    .dataframe thead th {\n",
       "        text-align: left;\n",
       "    }\n",
       "\n",
       "    .dataframe tbody tr th {\n",
       "        vertical-align: top;\n",
       "    }\n",
       "</style>\n",
       "<table border=\"1\" class=\"dataframe\">\n",
       "  <thead>\n",
       "    <tr style=\"text-align: right;\">\n",
       "      <th></th>\n",
       "      <th>user</th>\n",
       "      <th>Toy Story (1995);1</th>\n",
       "      <th>GoldenEye (1995);2</th>\n",
       "      <th>Four Rooms (1995);3</th>\n",
       "      <th>Get Shorty (1995);4</th>\n",
       "      <th>Copycat (1995);5</th>\n",
       "      <th>Shanghai Triad (Yao a yao yao dao waipo qiao) (1995);6</th>\n",
       "      <th>Twelve Monkeys (1995);7</th>\n",
       "      <th>Babe (1995);8</th>\n",
       "      <th>Dead Man Walking (1995);9</th>\n",
       "      <th>...</th>\n",
       "      <th>Mirage (1995);1673</th>\n",
       "      <th>Mamma Roma (1962);1674</th>\n",
       "      <th>Sunchaser, The (1996);1675</th>\n",
       "      <th>War at Home, The (1996);1676</th>\n",
       "      <th>Sweet Nothing (1995);1677</th>\n",
       "      <th>Mat' i syn (1997);1678</th>\n",
       "      <th>B. Monkey (1998);1679</th>\n",
       "      <th>Sliding Doors (1998);1680</th>\n",
       "      <th>You So Crazy (1994);1681</th>\n",
       "      <th>Scream of Stone (Schrei aus Stein) (1991);1682</th>\n",
       "    </tr>\n",
       "  </thead>\n",
       "  <tbody>\n",
       "  </tbody>\n",
       "</table>\n",
       "<p>0 rows × 1683 columns</p>\n",
       "</div>"
      ],
      "text/plain": [
       "Empty DataFrame\n",
       "Columns: [user, Toy Story (1995);1, GoldenEye (1995);2, Four Rooms (1995);3, Get Shorty (1995);4, Copycat (1995);5, Shanghai Triad (Yao a yao yao dao waipo qiao) (1995);6, Twelve Monkeys (1995);7, Babe (1995);8, Dead Man Walking (1995);9, Richard III (1995);10, Seven (Se7en) (1995);11, Usual Suspects, The (1995);12, Mighty Aphrodite (1995);13, Postino, Il (1994);14, Mr. Holland's Opus (1995);15, French Twist (Gazon maudit) (1995);16, From Dusk Till Dawn (1996);17, White Balloon, The (1995);18, Antonia's Line (1995);19, Angels and Insects (1995);20, Muppet Treasure Island (1996);21, Braveheart (1995);22, Taxi Driver (1976);23, Rumble in the Bronx (1995);24, Birdcage, The (1996);25, Brothers McMullen, The (1995);26, Bad Boys (1995);27, Apollo 13 (1995);28, Batman Forever (1995);29, Belle de jour (1967);30, Crimson Tide (1995);31, Crumb (1994);32, Desperado (1995);33, Doom Generation, The (1995);34, Free Willy 2: The Adventure Home (1995);35, Mad Love (1995);36, Nadja (1994);37, Net, The (1995);38, Strange Days (1995);39, To Wong Foo, Thanks for Everything! Julie Newmar (1995);40, Billy Madison (1995);41, Clerks (1994);42, Disclosure (1994);43, Dolores Claiborne (1994);44, Eat Drink Man Woman (1994);45, Exotica (1994);46, Ed Wood (1994);47, Hoop Dreams (1994);48, I.Q. (1994);49, Star Wars (1977);50, Legends of the Fall (1994);51, Madness of King George, The (1994);52, Natural Born Killers (1994);53, Outbreak (1995);54, Professional, The (1994);55, Pulp Fiction (1994);56, Priest (1994);57, Quiz Show (1994);58, Three Colors: Red (1994);59, Three Colors: Blue (1993);60, Three Colors: White (1994);61, Stargate (1994);62, Santa Clause, The (1994);63, Shawshank Redemption, The (1994);64, What's Eating Gilbert Grape (1993);65, While You Were Sleeping (1995);66, Ace Ventura: Pet Detective (1994);67, Crow, The (1994);68, Forrest Gump (1994);69, Four Weddings and a Funeral (1994);70, Lion King, The (1994);71, Mask, The (1994);72, Maverick (1994);73, Faster Pussycat! Kill! Kill! (1965);74, Brother Minister: The Assassination of Malcolm X (1994);75, Carlito's Way (1993);76, Firm, The (1993);77, Free Willy (1993);78, Fugitive, The (1993);79, Hot Shots! Part Deux (1993);80, Hudsucker Proxy, The (1994);81, Jurassic Park (1993);82, Much Ado About Nothing (1993);83, Robert A. Heinlein's The Puppet Masters (1994);84, Ref, The (1994);85, Remains of the Day, The (1993);86, Searching for Bobby Fischer (1993);87, Sleepless in Seattle (1993);88, Blade Runner (1982);89, So I Married an Axe Murderer (1993);90, Nightmare Before Christmas, The (1993);91, True Romance (1993);92, Welcome to the Dollhouse (1995);93, Home Alone (1990);94, Aladdin (1992);95, Terminator 2: Judgment Day (1991);96, Dances with Wolves (1990);97, Silence of the Lambs, The (1991);98, Snow White and the Seven Dwarfs (1937);99, ...]\n",
       "Index: []\n",
       "\n",
       "[0 rows x 1683 columns]"
      ]
     },
     "execution_count": 53,
     "metadata": {},
     "output_type": "execute_result"
    }
   ],
   "source": [
    "dfout.head(1)"
   ]
  },
  {
   "cell_type": "code",
   "execution_count": 54,
   "metadata": {
    "collapsed": false
   },
   "outputs": [
    {
     "name": "stderr",
     "output_type": "stream",
     "text": [
      "/Users/jason/anaconda/lib/python3.6/site-packages/ipykernel/__main__.py:6: DeprecationWarning: \n",
      ".ix is deprecated. Please use\n",
      ".loc for label based indexing or\n",
      ".iloc for positional indexing\n",
      "\n",
      "See the documentation here:\n",
      "http://pandas.pydata.org/pandas-docs/stable/indexing.html#ix-indexer-is-deprecated\n"
     ]
    }
   ],
   "source": [
    "toremovelist = []\n",
    "for i in range(1,nusers):\n",
    "    tmpmovielist = [0 for j in range(nmovies)]\n",
    "    dftmp =df[df[0]==i]\n",
    "    for k in dftmp.index:\n",
    "        if counts[dftmp.ix[k][1]]>= min_ratings:           \n",
    "           tmpmovielist[dftmp.ix[k][1]-1] = dftmp.ix[k][2]\n",
    "           \n",
    "        else:\n",
    "           toremovelist.append(dftmp.ix[k][1])\n",
    "            \n",
    "    dfout.loc[i] = [i]+tmpmovielist"
   ]
  },
  {
   "cell_type": "code",
   "execution_count": 55,
   "metadata": {
    "collapsed": false
   },
   "outputs": [],
   "source": [
    "toremovelist=list(set(toremovelist))\n",
    "dfout.drop(dfout.columns[toremovelist], axis=1, inplace=True)\n",
    "dfout.to_csv('utilitymatrix.csv',index=None)"
   ]
  },
  {
   "cell_type": "code",
   "execution_count": 56,
   "metadata": {
    "collapsed": false
   },
   "outputs": [
    {
     "data": {
      "text/html": [
       "<div>\n",
       "<style>\n",
       "    .dataframe thead tr:only-child th {\n",
       "        text-align: right;\n",
       "    }\n",
       "\n",
       "    .dataframe thead th {\n",
       "        text-align: left;\n",
       "    }\n",
       "\n",
       "    .dataframe tbody tr th {\n",
       "        vertical-align: top;\n",
       "    }\n",
       "</style>\n",
       "<table border=\"1\" class=\"dataframe\">\n",
       "  <thead>\n",
       "    <tr style=\"text-align: right;\">\n",
       "      <th></th>\n",
       "      <th>user</th>\n",
       "      <th>Toy Story (1995);1</th>\n",
       "      <th>GoldenEye (1995);2</th>\n",
       "      <th>Four Rooms (1995);3</th>\n",
       "      <th>Get Shorty (1995);4</th>\n",
       "      <th>Copycat (1995);5</th>\n",
       "      <th>Twelve Monkeys (1995);7</th>\n",
       "      <th>Babe (1995);8</th>\n",
       "      <th>Dead Man Walking (1995);9</th>\n",
       "      <th>Richard III (1995);10</th>\n",
       "      <th>...</th>\n",
       "      <th>Cool Runnings (1993);1035</th>\n",
       "      <th>Hamlet (1996);1039</th>\n",
       "      <th>Forget Paris (1995);1041</th>\n",
       "      <th>Multiplicity (1996);1047</th>\n",
       "      <th>She's the One (1996);1048</th>\n",
       "      <th>Koyaanisqatsi (1983);1065</th>\n",
       "      <th>Shallow Grave (1994);1073</th>\n",
       "      <th>Reality Bites (1994);1074</th>\n",
       "      <th>Six Degrees of Separation (1993);1101</th>\n",
       "      <th>Some Kind of Wonderful (1987);1119</th>\n",
       "    </tr>\n",
       "  </thead>\n",
       "  <tbody>\n",
       "    <tr>\n",
       "      <th>1</th>\n",
       "      <td>1</td>\n",
       "      <td>5</td>\n",
       "      <td>3</td>\n",
       "      <td>4</td>\n",
       "      <td>3</td>\n",
       "      <td>3</td>\n",
       "      <td>4</td>\n",
       "      <td>1</td>\n",
       "      <td>5</td>\n",
       "      <td>3</td>\n",
       "      <td>...</td>\n",
       "      <td>0</td>\n",
       "      <td>0</td>\n",
       "      <td>0</td>\n",
       "      <td>0</td>\n",
       "      <td>0</td>\n",
       "      <td>0</td>\n",
       "      <td>0</td>\n",
       "      <td>0</td>\n",
       "      <td>0</td>\n",
       "      <td>0</td>\n",
       "    </tr>\n",
       "    <tr>\n",
       "      <th>2</th>\n",
       "      <td>2</td>\n",
       "      <td>4</td>\n",
       "      <td>0</td>\n",
       "      <td>0</td>\n",
       "      <td>0</td>\n",
       "      <td>0</td>\n",
       "      <td>0</td>\n",
       "      <td>0</td>\n",
       "      <td>0</td>\n",
       "      <td>2</td>\n",
       "      <td>...</td>\n",
       "      <td>0</td>\n",
       "      <td>0</td>\n",
       "      <td>0</td>\n",
       "      <td>0</td>\n",
       "      <td>0</td>\n",
       "      <td>0</td>\n",
       "      <td>0</td>\n",
       "      <td>0</td>\n",
       "      <td>0</td>\n",
       "      <td>0</td>\n",
       "    </tr>\n",
       "    <tr>\n",
       "      <th>3</th>\n",
       "      <td>3</td>\n",
       "      <td>0</td>\n",
       "      <td>0</td>\n",
       "      <td>0</td>\n",
       "      <td>0</td>\n",
       "      <td>0</td>\n",
       "      <td>0</td>\n",
       "      <td>0</td>\n",
       "      <td>0</td>\n",
       "      <td>0</td>\n",
       "      <td>...</td>\n",
       "      <td>0</td>\n",
       "      <td>0</td>\n",
       "      <td>0</td>\n",
       "      <td>0</td>\n",
       "      <td>0</td>\n",
       "      <td>0</td>\n",
       "      <td>0</td>\n",
       "      <td>0</td>\n",
       "      <td>0</td>\n",
       "      <td>0</td>\n",
       "    </tr>\n",
       "    <tr>\n",
       "      <th>4</th>\n",
       "      <td>4</td>\n",
       "      <td>0</td>\n",
       "      <td>0</td>\n",
       "      <td>0</td>\n",
       "      <td>0</td>\n",
       "      <td>0</td>\n",
       "      <td>0</td>\n",
       "      <td>0</td>\n",
       "      <td>0</td>\n",
       "      <td>0</td>\n",
       "      <td>...</td>\n",
       "      <td>0</td>\n",
       "      <td>0</td>\n",
       "      <td>0</td>\n",
       "      <td>0</td>\n",
       "      <td>0</td>\n",
       "      <td>0</td>\n",
       "      <td>0</td>\n",
       "      <td>0</td>\n",
       "      <td>0</td>\n",
       "      <td>0</td>\n",
       "    </tr>\n",
       "    <tr>\n",
       "      <th>5</th>\n",
       "      <td>5</td>\n",
       "      <td>4</td>\n",
       "      <td>3</td>\n",
       "      <td>0</td>\n",
       "      <td>0</td>\n",
       "      <td>0</td>\n",
       "      <td>0</td>\n",
       "      <td>0</td>\n",
       "      <td>0</td>\n",
       "      <td>0</td>\n",
       "      <td>...</td>\n",
       "      <td>0</td>\n",
       "      <td>0</td>\n",
       "      <td>0</td>\n",
       "      <td>0</td>\n",
       "      <td>0</td>\n",
       "      <td>0</td>\n",
       "      <td>0</td>\n",
       "      <td>0</td>\n",
       "      <td>0</td>\n",
       "      <td>0</td>\n",
       "    </tr>\n",
       "  </tbody>\n",
       "</table>\n",
       "<p>5 rows × 604 columns</p>\n",
       "</div>"
      ],
      "text/plain": [
       "  user Toy Story (1995);1 GoldenEye (1995);2 Four Rooms (1995);3  \\\n",
       "1    1                  5                  3                   4   \n",
       "2    2                  4                  0                   0   \n",
       "3    3                  0                  0                   0   \n",
       "4    4                  0                  0                   0   \n",
       "5    5                  4                  3                   0   \n",
       "\n",
       "  Get Shorty (1995);4 Copycat (1995);5 Twelve Monkeys (1995);7 Babe (1995);8  \\\n",
       "1                   3                3                       4             1   \n",
       "2                   0                0                       0             0   \n",
       "3                   0                0                       0             0   \n",
       "4                   0                0                       0             0   \n",
       "5                   0                0                       0             0   \n",
       "\n",
       "  Dead Man Walking (1995);9 Richard III (1995);10  \\\n",
       "1                         5                     3   \n",
       "2                         0                     2   \n",
       "3                         0                     0   \n",
       "4                         0                     0   \n",
       "5                         0                     0   \n",
       "\n",
       "                 ...                 Cool Runnings (1993);1035  \\\n",
       "1                ...                                         0   \n",
       "2                ...                                         0   \n",
       "3                ...                                         0   \n",
       "4                ...                                         0   \n",
       "5                ...                                         0   \n",
       "\n",
       "  Hamlet (1996);1039 Forget Paris (1995);1041 Multiplicity (1996);1047  \\\n",
       "1                  0                        0                        0   \n",
       "2                  0                        0                        0   \n",
       "3                  0                        0                        0   \n",
       "4                  0                        0                        0   \n",
       "5                  0                        0                        0   \n",
       "\n",
       "  She's the One (1996);1048 Koyaanisqatsi (1983);1065  \\\n",
       "1                         0                         0   \n",
       "2                         0                         0   \n",
       "3                         0                         0   \n",
       "4                         0                         0   \n",
       "5                         0                         0   \n",
       "\n",
       "  Shallow Grave (1994);1073 Reality Bites (1994);1074  \\\n",
       "1                         0                         0   \n",
       "2                         0                         0   \n",
       "3                         0                         0   \n",
       "4                         0                         0   \n",
       "5                         0                         0   \n",
       "\n",
       "  Six Degrees of Separation (1993);1101 Some Kind of Wonderful (1987);1119  \n",
       "1                                     0                                  0  \n",
       "2                                     0                                  0  \n",
       "3                                     0                                  0  \n",
       "4                                     0                                  0  \n",
       "5                                     0                                  0  \n",
       "\n",
       "[5 rows x 604 columns]"
      ]
     },
     "execution_count": 56,
     "metadata": {},
     "output_type": "execute_result"
    }
   ],
   "source": [
    "dfout.head(5)"
   ]
  },
  {
   "cell_type": "markdown",
   "metadata": {},
   "source": [
    "### 영화 장르 데이터"
   ]
  },
  {
   "cell_type": "code",
   "execution_count": 61,
   "metadata": {
    "collapsed": false
   },
   "outputs": [
    {
     "name": "stdout",
     "output_type": "stream",
     "text": [
      "  movie_id unknown Action Adventure Animation Children's Comedy Crime  \\\n",
      "0        1       0      0         0         1          1      1     0   \n",
      "1        2       0      1         1         0          0      0     0   \n",
      "2        3       0      0         0         0          0      0     0   \n",
      "3        4       0      1         0         0          0      1     0   \n",
      "4        5       0      0         0         0          0      0     1   \n",
      "\n",
      "  Documentary Drama Fantasy Film-Noir Horror Musical Mystery Romance Sci-Fi  \\\n",
      "0           0     0       0         0      0       0       0       0      0   \n",
      "1           0     0       0         0      0       0       0       0      0   \n",
      "2           0     0       0         0      0       0       0       0      0   \n",
      "3           0     1       0         0      0       0       0       0      0   \n",
      "4           0     1       0         0      0       0       0       0      0   \n",
      "\n",
      "  Thriller War Western  \n",
      "0        0   0       0  \n",
      "1        1   0       0  \n",
      "2        1   0       0  \n",
      "3        0   0       0  \n",
      "4        1   0       0  \n"
     ]
    }
   ],
   "source": [
    "#matrix movies's content\n",
    "movieslist = [int(m.split(';')[-1]) for m in dfout.columns[1:]]\n",
    "moviescats = ['unknown','Action','Adventure','Animation','Children\\'s','Comedy','Crime','Documentary',\n",
    "              'Drama','Fantasy','Film-Noir','Horror','Musical','Mystery',\n",
    "              'Romance','Sci-Fi','Thriller','War','Western']\n",
    "dfout_movies =  pd.DataFrame(columns=['movie_id']+moviescats)\n",
    "startcatsindx = 5\n",
    "cnt= 0\n",
    "for m in movieslist:\n",
    "    dfout_movies.loc[cnt] = [m]+df_info.iloc[m-1][startcatsindx:].tolist()\n",
    "    cnt +=1 \n",
    "print(dfout_movies.head())\n",
    "\n",
    "dfout_movies.to_csv('movies_content.csv',index=None)"
   ]
  },
  {
   "cell_type": "markdown",
   "metadata": {},
   "source": [
    "### 결측치 대체(Imputation)"
   ]
  },
  {
   "cell_type": "code",
   "execution_count": 62,
   "metadata": {
    "collapsed": true
   },
   "outputs": [],
   "source": [
    "def imputation(inp,Ri):\n",
    "    Ri = Ri.astype(float)\n",
    "    def userav():\n",
    "        for i in xrange(len(Ri)):\n",
    "            Ri[i][Ri[i]==0] = sum(Ri[i])/float(len(Ri[i][Ri[i]>0]))\n",
    "        return Ri\n",
    "    def itemav():\n",
    "        for i in xrange(len(Ri[0])):\n",
    "            Ri[:,i][Ri[:,i]==0] = sum(Ri[:,i])/float(len(Ri[:,i][Ri[:,i]>0]))\n",
    "        return Ri            \n",
    "    switch = {'useraverage':userav(),'itemaverage':itemav()}\n",
    "    return switch[inp]"
   ]
  },
  {
   "cell_type": "markdown",
   "metadata": {},
   "source": [
    "### 유사도 평가"
   ]
  },
  {
   "cell_type": "code",
   "execution_count": 63,
   "metadata": {
    "collapsed": true
   },
   "outputs": [],
   "source": [
    "from scipy.stats import pearsonr\n",
    "from scipy.spatial.distance import cosine \n",
    "def sim(x,y,metric='cos'):\n",
    "    if metric == 'cos':\n",
    "       return 1.-cosine(x,y)\n",
    "    else:#correlation\n",
    "       return pearsonr(x,y)[0]"
   ]
  },
  {
   "cell_type": "markdown",
   "metadata": {},
   "source": [
    "## 협업 필터링 방법 (Collaborative Filtering Methods)\n",
    "\n",
    "### 메모리 기반 협업 필터링\n",
    "\n",
    "* 메모리 기반 형업 필터링은 **사용자 기반 협업 필터링(User-Based Collaborative Filtering)**과 **아이템 기반 협업 필터링(item-Based Collaborative Filtering)**으로 구분할 수 있다."
   ]
  },
  {
   "cell_type": "markdown",
   "metadata": {},
   "source": [
    "#### 1. 사용자 기반 협업 필터링\n",
    "\n",
    "* **u_vec**은 사용자 평점 벡터로 함수 **FindKNeighbours**에서 이 벡터와 가장 비슷한 사용자 $K$를 찾는다. \n",
    "* **CalcRating** 함수는 앞의 식을 이용해서 예측 평점을 계산한다. 단, 분포 교정은 하지 않는다.\n",
    "* 유틸리티 행렬이 데이터가 별로 없어 이웃이 없는 경우 사용자의 평균 평점으로 예측이 이루어지도록 구현되었다.\n",
    "* 예측 평점이 5를 넘거나 1보다 낮은 경우 각각 5와 1로 조정된다."
   ]
  },
  {
   "cell_type": "code",
   "execution_count": 65,
   "metadata": {
    "collapsed": true
   },
   "outputs": [],
   "source": [
    "def CF_userbased(u_vec,K,data,indxs=False):\n",
    "    def FindKNeighbours(r,data,K):\n",
    "        neighs = []\n",
    "        cnt=0\n",
    "        for u in range(len(data)):\n",
    "            if data[u,r]>0 and cnt<K:\n",
    "               neighs.append(data[u])   \n",
    "               cnt +=1 \n",
    "            elif cnt==K:\n",
    "               break\n",
    "        return np.array(neighs)\n",
    "        \n",
    "    def CalcRating(u_vec,r,neighs):\n",
    "        rating = 0.\n",
    "        den = 0.\n",
    "        for j in range(len(neighs)):\n",
    "            rating += neighs[j][-1]*float(neighs[j][r]-neighs[j][neighs[j]>0][:-1].mean())\n",
    "            den += abs(neighs[j][-1])\n",
    "        if den>0:\n",
    "            rating = np.round(u_vec[u_vec>0].mean()+(rating/den),0)\n",
    "        else:\n",
    "            rating = np.round(u_vec[u_vec>0].mean(),0)\n",
    "        if rating>5:\n",
    "            return 5.\n",
    "        elif rating<1:\n",
    "            return 1.\n",
    "        return rating \n",
    "    #add similarity col\n",
    "    data = data.astype(float)\n",
    "    nrows = len(data)\n",
    "    ncols = len(data[0])\n",
    "    data_sim = np.zeros((nrows,ncols+1))\n",
    "    data_sim[:,:-1] = data\n",
    "    #calc similarities:\n",
    "    for u in range(nrows):\n",
    "        if np.array_equal(data_sim[u,:-1],u_vec)==False: #list(data_sim[u,:-1]) != list(u_vec):\n",
    "           data_sim[u,ncols] = sim(data_sim[u,:-1],u_vec,'pearson')\n",
    "        else:\n",
    "           data_sim[u,ncols] = 0.\n",
    "    #order by similarity:\n",
    "    data_sim =data_sim[data_sim[:,ncols].argsort()][::-1]\n",
    "    #find the K users for each item not rated:\n",
    "    u_rec = np.zeros(len(u_vec))\n",
    "    for r in range(ncols):\n",
    "        if u_vec[r]==0:\n",
    "           neighs = FindKNeighbours(r,data_sim,K)\n",
    "           #calc the predicted rating\n",
    "           u_rec[r] = CalcRating(u_vec,r,neighs)\n",
    "    if indxs:\n",
    "            #take out the rated movies\n",
    "            seenindxs = [indx for indx in range(len(u_vec)) if u_vec[indx]>0]\n",
    "            u_rec[seenindxs] = -1\n",
    "            recsvec = np.argsort(u_rec)[::-1][np.argsort(u_rec)>0]\n",
    "        \n",
    "            return recsvec    \n",
    "    return u_rec"
   ]
  },
  {
   "cell_type": "markdown",
   "metadata": {},
   "source": [
    "#### 2. 아이템 기반 협업 필터링\n",
    "\n",
    "* 클래스 **CF_itembased**의 생성자는 아이템 유사도 행렬 **simmatrix**를 계산한다.\n",
    "* 아이템에 대해 사용자 평점이 없는 경우 함수 **CalcRatings**를 통해 예측을 하게 되며, 이 때 함수 내부적으로 **simmatrix**를 사용한다.\n",
    "* 함수 **GetKSimItemsperUser**는 사용자가 평가하지 않은 아이템과 유사도가 가장 높은 아이템 중 사용자가 과거에 평가했던 $K$개의 아이템을 찾는다.\n",
    "* **u_vec**는 사용자 평점 벡터로, 유틸리티 행렬의 행 벡터이다. **CalcRatings**은 가중 평균 평점을 계산한다. 이웃을 찾을 수 없는 경우 평점은 아이템의 평균 평점으로 설정한다."
   ]
  },
  {
   "cell_type": "code",
   "execution_count": 66,
   "metadata": {
    "collapsed": true
   },
   "outputs": [],
   "source": [
    "class CF_itembased(object):\n",
    "    def __init__(self,data):\n",
    "        #calc item similarities matrix\n",
    "        nitems = len(data[0])\n",
    "        self.data = data\n",
    "        self.simmatrix = np.zeros((nitems,nitems))\n",
    "        for i in range(nitems):\n",
    "            for j in range(nitems):\n",
    "                if j>=i:#triangular matrix\n",
    "                   self.simmatrix[i,j] = sim(data[:,i],data[:,j])\n",
    "                else:\n",
    "                   self.simmatrix[i,j] = self.simmatrix[j,i]\n",
    "\n",
    "    def GetKSimItemsperUser(self,r,K,u_vec):\n",
    "        items = np.argsort(self.simmatrix[r])[::-1]\n",
    "        items = items[items!=r]\n",
    "        cnt=0\n",
    "        neighitems = []\n",
    "        for i in items:\n",
    "            if u_vec[i]>0 and cnt<K:\n",
    "               neighitems.append(i)\n",
    "               cnt+=1\n",
    "            elif cnt==K:\n",
    "               break\n",
    "        return neighitems\n",
    "        \n",
    "    def CalcRating(self,r,u_vec,neighitems):\n",
    "        rating = 0.\n",
    "        den = 0.\n",
    "        for i in neighitems:\n",
    "            rating +=  self.simmatrix[r,i]*u_vec[i]\n",
    "            den += abs(self.simmatrix[r,i])\n",
    "        if den>0:\n",
    "            rating = np.round(rating/den,0)\n",
    "        else:\n",
    "            rating = np.round(self.data[:,r][self.data[:,r]>0].mean(),0)\n",
    "        return rating\n",
    "        \n",
    "    def CalcRatings(self,u_vec,K,indxs=False):\n",
    "        #u_rec = copy.copy(u_vec)\n",
    "        u_rec = np.zeros(len(u_vec))\n",
    "        for r in range(len(u_vec)):\n",
    "            if u_vec[r]==0:\n",
    "               neighitems = self.GetKSimItemsperUser(r,K,u_vec)\n",
    "               #calc predicted rating\n",
    "               u_rec[r] = self.CalcRating(r,u_vec,neighitems)\n",
    "        if indxs:\n",
    "            #take out the rated movies\n",
    "            seenindxs = [indx for indx in range(len(u_vec)) if u_vec[indx]>0]\n",
    "            u_rec[seenindxs]=-1\n",
    "            recsvec = np.argsort(u_rec)[::-1][np.argsort(u_rec)>0]\n",
    "        \n",
    "            return recsvec\n",
    "        return u_rec"
   ]
  },
  {
   "cell_type": "markdown",
   "metadata": {},
   "source": [
    "### 트레이닝 셋과 테스트 셋 분리"
   ]
  },
  {
   "cell_type": "code",
   "execution_count": 71,
   "metadata": {
    "collapsed": false
   },
   "outputs": [],
   "source": [
    "def cross_validation(df,k):\n",
    "    val_num = int(len(df)/float(k))\n",
    "    print(val_num)\n",
    "    df_trains = []\n",
    "    df_vals = []\n",
    "    for i in range(k):\n",
    "        start_val = (k-i-1)*val_num\n",
    "        end_val = start_val+val_num\n",
    "        df_trains.append(pd.concat([df[:start_val],df[end_val:]]))\n",
    "        df_vals.append(df[start_val:end_val])\n",
    "\n",
    "    return df_trains,df_vals"
   ]
  },
  {
   "cell_type": "markdown",
   "metadata": {},
   "source": [
    "### RMSE 평가"
   ]
  },
  {
   "cell_type": "code",
   "execution_count": 73,
   "metadata": {
    "collapsed": true
   },
   "outputs": [],
   "source": [
    "def SE(u_preds,u_vals):\n",
    "    nratings = len(u_vals)\n",
    "    se = 0.\n",
    "    cnt = 0\n",
    "    for i in range(nratings):\n",
    "        if u_vals[i]>0:\n",
    "           se +=  (u_vals[i]-u_preds[i])*(u_vals[i]-u_preds[i])\n",
    "           cnt += 1\n",
    "    return se,cnt"
   ]
  },
  {
   "cell_type": "markdown",
   "metadata": {},
   "source": [
    "### 예측을 위해 U_VEC의 절반은 숨겨서 값을 예측하긴 위한 적업"
   ]
  },
  {
   "cell_type": "code",
   "execution_count": 74,
   "metadata": {
    "collapsed": true
   },
   "outputs": [],
   "source": [
    "import random\n",
    "def HideRandomRatings(u_vec, ratiovals=0.5):\n",
    "    u_test = np.zeros(len(u_vec))\n",
    "    u_vals = np.zeros(len(u_vec))\n",
    "    cnt = 0\n",
    "    nratings = len(u_vec[u_vec>0])\n",
    "    for i in range(len(u_vec)):\n",
    "        if u_vec[i]>0:        \n",
    "            if bool(random.getrandbits(1)) or cnt>=int(nratings*ratiovals):\n",
    "                u_test[i]=u_vec[i]\n",
    "            else:#random choice to hide the rating:\n",
    "                cnt +=1\n",
    "                u_vals[i]=u_vec[i]\n",
    "    return u_test,u_vals"
   ]
  },
  {
   "cell_type": "markdown",
   "metadata": {},
   "source": [
    "### 1. 데이터 로드"
   ]
  },
  {
   "cell_type": "code",
   "execution_count": 72,
   "metadata": {
    "collapsed": false
   },
   "outputs": [
    {
     "name": "stdout",
     "output_type": "stream",
     "text": [
      "   user  Toy Story (1995);1  GoldenEye (1995);2  Four Rooms (1995);3  \\\n",
      "0     1                   5                   3                    4   \n",
      "1     2                   4                   0                    0   \n",
      "2     3                   0                   0                    0   \n",
      "3     4                   0                   0                    0   \n",
      "\n",
      "   Get Shorty (1995);4  Copycat (1995);5  Twelve Monkeys (1995);7  \\\n",
      "0                    3                 3                        4   \n",
      "1                    0                 0                        0   \n",
      "2                    0                 0                        0   \n",
      "3                    0                 0                        0   \n",
      "\n",
      "   Babe (1995);8  Dead Man Walking (1995);9  Richard III (1995);10  \\\n",
      "0              1                          5                      3   \n",
      "1              0                          0                      2   \n",
      "2              0                          0                      0   \n",
      "3              0                          0                      0   \n",
      "\n",
      "                  ...                  Cool Runnings (1993);1035  \\\n",
      "0                 ...                                          0   \n",
      "1                 ...                                          0   \n",
      "2                 ...                                          0   \n",
      "3                 ...                                          0   \n",
      "\n",
      "   Hamlet (1996);1039  Forget Paris (1995);1041  Multiplicity (1996);1047  \\\n",
      "0                   0                         0                         0   \n",
      "1                   0                         0                         0   \n",
      "2                   0                         0                         0   \n",
      "3                   0                         0                         0   \n",
      "\n",
      "   She's the One (1996);1048  Koyaanisqatsi (1983);1065  \\\n",
      "0                          0                          0   \n",
      "1                          0                          0   \n",
      "2                          0                          0   \n",
      "3                          0                          0   \n",
      "\n",
      "   Shallow Grave (1994);1073  Reality Bites (1994);1074  \\\n",
      "0                          0                          0   \n",
      "1                          0                          0   \n",
      "2                          0                          0   \n",
      "3                          0                          0   \n",
      "\n",
      "   Six Degrees of Separation (1993);1101  Some Kind of Wonderful (1987);1119  \n",
      "0                                      0                                   0  \n",
      "1                                      0                                   0  \n",
      "2                                      0                                   0  \n",
      "3                                      0                                   0  \n",
      "\n",
      "[4 rows x 604 columns]\n",
      "check::: 603 -- 603\n",
      "188\n"
     ]
    }
   ],
   "source": [
    "#load data\n",
    "df = pd.read_csv('utilitymatrix.csv')\n",
    "print(df.head(4))\n",
    "df_movies = pd.read_csv('movies_content.csv')\n",
    "movies = df_movies.values[:,1:]\n",
    "print('check:::',len(df.columns[1:]),'--',len(df_movies))\n",
    "movieslist = list(df.columns[1:])\n",
    "#k-fold cv 5 folds\n",
    "nfolds = 5\n",
    "df_trains,df_vals = cross_validation(df,nfolds)"
   ]
  },
  {
   "cell_type": "markdown",
   "metadata": {},
   "source": [
    "### 2. 데이터 준비"
   ]
  },
  {
   "cell_type": "code",
   "execution_count": 75,
   "metadata": {
    "collapsed": true
   },
   "outputs": [],
   "source": [
    "nmovies = len(df_vals[0].values[:,1:][0])\n",
    "vals_vecs_folds = []\n",
    "tests_vecs_folds = []\n",
    "for i in range(nfolds):\n",
    "    u_vecs = df_vals[i].values[:,1:]\n",
    "    vtests = np.empty((0,nmovies),float)\n",
    "    vvals = np.empty((0,nmovies),float)\n",
    "    for u_vec in u_vecs:\n",
    "        u_test,u_vals = HideRandomRatings(u_vec)\n",
    "        vvals = np.vstack([vvals,u_vals])\n",
    "        vtests = np.vstack([vtests,u_test])\n",
    "    vals_vecs_folds.append(vvals)\n",
    "    tests_vecs_folds.append(vtests)"
   ]
  },
  {
   "cell_type": "markdown",
   "metadata": {},
   "source": [
    "### 3. 평가"
   ]
  },
  {
   "cell_type": "markdown",
   "metadata": {},
   "source": [
    "* 아이템 기반 협업"
   ]
  },
  {
   "cell_type": "code",
   "execution_count": 83,
   "metadata": {
    "collapsed": false
   },
   "outputs": [
    {
     "name": "stdout",
     "output_type": "stream",
     "text": [
      "fold: 1\n",
      "fold: 2\n",
      "fold: 3\n",
      "fold: 4\n",
      "fold: 5\n",
      "user_itembased rmse: 1.02814285969 -- 39928\n"
     ]
    }
   ],
   "source": [
    "err_itembased = 0.\n",
    "cnt_itembased = 0\n",
    "\n",
    "for i in range(nfolds):\n",
    "    Umatrix = df_trains[i].values[:,1:]\n",
    "    cfitembased = CF_itembased(Umatrix)\n",
    "\n",
    "    print('fold:',i+1)\n",
    "    vec_vals = vals_vecs_folds[i]\n",
    "    vec_tests = tests_vecs_folds[i]\n",
    "    \n",
    "    for j in range(len(vec_vals)):\n",
    "        u_vals = vec_vals[j]\n",
    "        u_test = vec_tests[j]\n",
    "        \n",
    "        #cf_itembased\n",
    "        u_preds = cfitembased.CalcRatings(u_test,5)\n",
    "        e,c =  SE(u_preds,u_vals)\n",
    "        err_itembased +=e\n",
    "        cnt_itembased +=c\n",
    "        \n",
    "rmse_itembased = np.sqrt(err_itembased/float(cnt_itembased))\n",
    "\n",
    "print('user_itembased rmse:',rmse_itembased,'--',cnt_itembased)"
   ]
  },
  {
   "cell_type": "code",
   "execution_count": 84,
   "metadata": {
    "collapsed": false,
    "scrolled": true
   },
   "outputs": [
    {
     "data": {
      "text/plain": [
       "array([ 4.,  3.,  4.,  4.,  0.,  0.,  4.,  5.,  3.,  4.,  4.,  3.,  4.,\n",
       "        3.,  4.,  4.,  4.,  4.,  4.,  4.,  4.,  4.,  3.,  3.,  4.,  3.,\n",
       "        4.,  4.,  4.,  0.,  4.,  3.,  3.,  3.,  3.,  3.,  4.,  3.,  4.,\n",
       "        4.,  3.,  4.,  4.,  4.,  0.,  4.,  3.,  4.,  3.,  3.,  4.,  4.,\n",
       "        4.,  0.,  3.,  4.,  4.,  4.,  4.,  3.,  4.,  0.,  0.,  0.,  3.,\n",
       "        3.,  4.,  4.,  3.,  4.,  4.,  0.,  4.,  3.,  3.,  4.,  4.,  3.,\n",
       "        4.,  4.,  4.,  4.,  3.,  4.,  3.,  4.,  3.,  4.,  4.,  3.,  3.,\n",
       "        3.,  4.,  4.,  4.,  3.,  0.,  3.,  4.,  4.,  3.,  4.,  0.,  3.,\n",
       "        4.,  4.,  4.,  4.,  4.,  4.,  4.,  4.,  4.,  4.,  4.,  4.,  4.,\n",
       "        4.,  4.,  4.,  0.,  4.,  0.,  3.,  0.,  4.,  3.,  4.,  0.,  4.,\n",
       "        0.,  4.,  0.,  4.,  4.,  4.,  4.,  4.,  4.,  4.,  4.,  4.,  3.,\n",
       "        4.,  4.,  4.,  4.,  0.,  3.,  4.,  4.,  0.,  0.,  4.,  4.,  3.,\n",
       "        4.,  4.,  4.,  4.,  4.,  4.,  0.,  4.,  4.,  4.,  4.,  4.,  4.,\n",
       "        4.,  4.,  4.,  4.,  0.,  4.,  0.,  4.,  3.,  4.,  3.,  0.,  4.,\n",
       "        4.,  3.,  4.,  4.,  4.,  4.,  4.,  4.,  4.,  4.,  5.,  4.,  5.,\n",
       "        3.,  0.,  4.,  4.,  4.,  4.,  4.,  4.,  0.,  0.,  3.,  4.,  4.,\n",
       "        3.,  0.,  4.,  4.,  3.,  3.,  3.,  4.,  3.,  4.,  4.,  3.,  3.,\n",
       "        4.,  4.,  0.,  3.,  4.,  3.,  4.,  4.,  3.,  3.,  3.,  4.,  4.,\n",
       "        4.,  4.,  4.,  4.,  4.,  4.,  4.,  4.,  4.,  4.,  4.,  3.,  4.,\n",
       "        0.,  3.,  4.,  5.,  3.,  4.,  0.,  3.,  4.,  4.,  3.,  0.,  3.,\n",
       "        3.,  4.,  3.,  3.,  4.,  3.,  3.,  4.,  3.,  3.,  3.,  3.,  4.,\n",
       "        0.,  4.,  3.,  3.,  3.,  4.,  4.,  0.,  3.,  3.,  4.,  3.,  3.,\n",
       "        3.,  3.,  3.,  3.,  4.,  3.,  3.,  4.,  4.,  4.,  4.,  4.,  4.,\n",
       "        4.,  3.,  4.,  4.,  4.,  3.,  3.,  3.,  4.,  3.,  3.,  3.,  0.,\n",
       "        3.,  3.,  3.,  3.,  3.,  4.,  4.,  4.,  4.,  4.,  3.,  3.,  3.,\n",
       "        3.,  4.,  4.,  4.,  4.,  4.,  0.,  4.,  4.,  5.,  3.,  4.,  4.,\n",
       "        4.,  3.,  4.,  4.,  3.,  3.,  4.,  4.,  4.,  0.,  4.,  4.,  3.,\n",
       "        4.,  3.,  4.,  0.,  4.,  4.,  0.,  4.,  3.,  4.,  0.,  4.,  0.,\n",
       "        4.,  3.,  4.,  4.,  4.,  3.,  4.,  4.,  4.,  4.,  4.,  4.,  4.,\n",
       "        4.,  4.,  4.,  4.,  4.,  3.,  3.,  4.,  4.,  3.,  3.,  4.,  4.,\n",
       "        4.,  0.,  4.,  4.,  4.,  0.,  4.,  4.,  4.,  4.,  4.,  0.,  4.,\n",
       "        4.,  3.,  4.,  4.,  3.,  3.,  4.,  4.,  4.,  4.,  4.,  4.,  4.,\n",
       "        4.,  4.,  3.,  4.,  4.,  4.,  3.,  4.,  4.,  4.,  4.,  4.,  0.,\n",
       "        3.,  3.,  3.,  3.,  0.,  4.,  4.,  4.,  3.,  3.,  4.,  4.,  4.,\n",
       "        4.,  0.,  4.,  4.,  4.,  4.,  4.,  4.,  4.,  4.,  4.,  4.,  3.,\n",
       "        4.,  4.,  4.,  4.,  4.,  0.,  3.,  4.,  5.,  4.,  4.,  3.,  4.,\n",
       "        4.,  4.,  4.,  0.,  4.,  4.,  4.,  4.,  4.,  4.,  4.,  4.,  4.,\n",
       "        4.,  4.,  4.,  0.,  4.,  3.,  3.,  4.,  3.,  0.,  4.,  4.,  3.,\n",
       "        4.,  3.,  0.,  4.,  4.,  4.,  3.,  4.,  4.,  3.,  3.,  3.,  4.,\n",
       "        4.,  3.,  4.,  4.,  3.,  3.,  3.,  4.,  4.,  5.,  0.,  4.,  4.,\n",
       "        3.,  3.,  4.,  4.,  4.,  4.,  4.,  3.,  3.,  3.,  3.,  3.,  3.,\n",
       "        4.,  4.,  4.,  3.,  4.,  4.,  3.,  3.,  4.,  3.,  0.,  4.,  4.,\n",
       "        4.,  3.,  4.,  4.,  3.,  3.,  4.,  4.,  3.,  4.,  3.,  4.,  0.,\n",
       "        3.,  2.,  3.,  4.,  3.,  3.,  3.,  3.,  4.,  3.,  3.,  3.,  4.,\n",
       "        3.,  4.,  3.,  3.,  0.,  3.,  3.,  4.,  4.,  4.,  4.,  4.,  3.,\n",
       "        3.,  4.,  4.,  3.,  4.,  4.,  4.,  3.,  4.,  4.,  0.,  3.,  4.,\n",
       "        4.,  4.,  4.,  4.,  4.])"
      ]
     },
     "execution_count": 84,
     "metadata": {},
     "output_type": "execute_result"
    }
   ],
   "source": [
    "u_preds"
   ]
  },
  {
   "cell_type": "code",
   "execution_count": 85,
   "metadata": {
    "collapsed": false,
    "scrolled": true
   },
   "outputs": [
    {
     "data": {
      "text/plain": [
       "array([ 0.,  0.,  0.,  0.,  0.,  0.,  0.,  0.,  0.,  5.,  0.,  4.,  0.,\n",
       "        0.,  0.,  0.,  0.,  0.,  5.,  0.,  0.,  0.,  0.,  0.,  3.,  0.,\n",
       "        0.,  0.,  0.,  0.,  0.,  0.,  0.,  0.,  0.,  0.,  0.,  0.,  4.,\n",
       "        0.,  0.,  0.,  4.,  0.,  0.,  0.,  0.,  0.,  0.,  0.,  0.,  5.,\n",
       "        0.,  0.,  0.,  0.,  4.,  0.,  0.,  0.,  0.,  0.,  0.,  0.,  0.,\n",
       "        0.,  0.,  0.,  0.,  0.,  0.,  0.,  0.,  0.,  0.,  0.,  0.,  0.,\n",
       "        0.,  5.,  5.,  5.,  0.,  4.,  0.,  0.,  0.,  0.,  0.,  0.,  0.,\n",
       "        0.,  0.,  0.,  3.,  0.,  0.,  0.,  0.,  0.,  0.,  0.,  0.,  0.,\n",
       "        0.,  0.,  0.,  0.,  0.,  0.,  0.,  0.,  0.,  0.,  0.,  0.,  5.,\n",
       "        3.,  0.,  0.,  0.,  0.,  0.,  0.,  0.,  0.,  0.,  0.,  0.,  0.,\n",
       "        0.,  0.,  0.,  4.,  0.,  4.,  0.,  0.,  0.,  0.,  0.,  0.,  0.,\n",
       "        0.,  5.,  5.,  0.,  0.,  4.,  0.,  0.,  0.,  0.,  0.,  0.,  0.,\n",
       "        4.,  0.,  3.,  0.,  0.,  0.,  0.,  0.,  0.,  3.,  3.,  0.,  0.,\n",
       "        0.,  4.,  0.,  0.,  0.,  0.,  0.,  3.,  0.,  0.,  0.,  0.,  4.,\n",
       "        4.,  0.,  0.,  0.,  0.,  5.,  0.,  5.,  0.,  0.,  0.,  0.,  0.,\n",
       "        0.,  0.,  0.,  0.,  0.,  0.,  0.,  0.,  0.,  0.,  0.,  3.,  0.,\n",
       "        0.,  0.,  0.,  0.,  0.,  0.,  0.,  0.,  0.,  0.,  0.,  0.,  0.,\n",
       "        0.,  0.,  0.,  0.,  0.,  0.,  5.,  0.,  0.,  0.,  0.,  0.,  0.,\n",
       "        0.,  0.,  0.,  0.,  0.,  0.,  3.,  0.,  0.,  0.,  0.,  0.,  0.,\n",
       "        0.,  0.,  0.,  0.,  0.,  0.,  0.,  0.,  0.,  0.,  0.,  0.,  0.,\n",
       "        0.,  0.,  0.,  0.,  0.,  0.,  0.,  0.,  0.,  0.,  0.,  0.,  0.,\n",
       "        0.,  0.,  0.,  0.,  0.,  0.,  0.,  0.,  0.,  0.,  0.,  0.,  0.,\n",
       "        0.,  0.,  0.,  0.,  0.,  0.,  0.,  0.,  0.,  0.,  4.,  4.,  0.,\n",
       "        0.,  0.,  0.,  0.,  0.,  0.,  0.,  0.,  0.,  0.,  0.,  0.,  0.,\n",
       "        0.,  0.,  0.,  0.,  0.,  0.,  0.,  0.,  0.,  0.,  0.,  0.,  0.,\n",
       "        0.,  0.,  0.,  0.,  0.,  0.,  0.,  0.,  0.,  0.,  0.,  0.,  0.,\n",
       "        0.,  0.,  0.,  0.,  0.,  0.,  0.,  0.,  0.,  0.,  0.,  0.,  0.,\n",
       "        0.,  0.,  0.,  0.,  0.,  0.,  0.,  0.,  0.,  0.,  0.,  0.,  0.,\n",
       "        0.,  0.,  0.,  4.,  0.,  0.,  0.,  0.,  0.,  0.,  0.,  0.,  5.,\n",
       "        5.,  3.,  0.,  0.,  0.,  0.,  0.,  0.,  0.,  0.,  0.,  0.,  0.,\n",
       "        0.,  0.,  0.,  0.,  0.,  0.,  0.,  0.,  0.,  0.,  0.,  0.,  2.,\n",
       "        0.,  0.,  0.,  0.,  0.,  0.,  0.,  4.,  0.,  0.,  0.,  0.,  0.,\n",
       "        0.,  0.,  0.,  0.,  0.,  0.,  0.,  0.,  0.,  0.,  0.,  0.,  0.,\n",
       "        2.,  0.,  0.,  0.,  0.,  4.,  0.,  0.,  0.,  0.,  0.,  0.,  0.,\n",
       "        0.,  0.,  0.,  0.,  0.,  0.,  0.,  0.,  0.,  0.,  0.,  0.,  0.,\n",
       "        0.,  0.,  0.,  0.,  5.,  0.,  0.,  5.,  0.,  0.,  0.,  0.,  0.,\n",
       "        0.,  0.,  0.,  0.,  0.,  0.,  0.,  0.,  0.,  0.,  0.,  0.,  0.,\n",
       "        0.,  0.,  0.,  0.,  0.,  0.,  3.,  0.,  0.,  0.,  0.,  0.,  0.,\n",
       "        0.,  0.,  0.,  0.,  0.,  0.,  0.,  0.,  0.,  0.,  0.,  0.,  0.,\n",
       "        0.,  0.,  0.,  4.,  0.,  0.,  0.,  0.,  0.,  0.,  0.,  0.,  0.,\n",
       "        0.,  0.,  0.,  0.,  5.,  0.,  0.,  0.,  0.,  0.,  0.,  0.,  0.,\n",
       "        0.,  0.,  0.,  0.,  0.,  0.,  0.,  0.,  0.,  0.,  0.,  0.,  0.,\n",
       "        0.,  0.,  0.,  0.,  0.,  0.,  0.,  0.,  0.,  0.,  0.,  0.,  0.,\n",
       "        0.,  0.,  0.,  0.,  2.,  0.,  0.,  0.,  0.,  0.,  0.,  0.,  0.,\n",
       "        0.,  0.,  0.,  3.,  0.,  0.,  0.,  0.,  0.,  0.,  0.,  0.,  0.,\n",
       "        0.,  0.,  0.,  0.,  0.,  0.,  0.,  0.,  0.,  0.,  0.,  0.,  0.,\n",
       "        0.,  0.,  0.,  0.,  0.])"
      ]
     },
     "execution_count": 85,
     "metadata": {},
     "output_type": "execute_result"
    }
   ],
   "source": [
    "u_vals"
   ]
  },
  {
   "cell_type": "markdown",
   "metadata": {},
   "source": [
    "* 사용자 기반 협업"
   ]
  },
  {
   "cell_type": "code",
   "execution_count": 86,
   "metadata": {
    "collapsed": false
   },
   "outputs": [
    {
     "name": "stdout",
     "output_type": "stream",
     "text": [
      "fold: 1\n",
      "fold: 2\n",
      "fold: 3\n",
      "fold: 4\n",
      "fold: 5\n",
      "user_userbased rmse: 1.02015846903 -- 39928\n"
     ]
    }
   ],
   "source": [
    "err_userbased = 0.\n",
    "cnt_userbased = 0\n",
    "\n",
    "for i in range(nfolds):\n",
    "    Umatrix = df_trains[i].values[:,1:]\n",
    "    \n",
    "    print('fold:',i+1)\n",
    "    vec_vals = vals_vecs_folds[i]\n",
    "    vec_tests = tests_vecs_folds[i]\n",
    "    \n",
    "    for j in range(len(vec_vals)):\n",
    "        u_vals = vec_vals[j]\n",
    "        u_test = vec_tests[j]\n",
    "        \n",
    "        #cf_userbased\n",
    "        u_preds = CF_userbased(u_test,5,Umatrix)\n",
    "        e,c =  SE(u_preds,u_vals)\n",
    "        err_userbased +=e\n",
    "        cnt_userbased +=c\n",
    "        \n",
    "rmse_userbased = np.sqrt(err_userbased/float(cnt_userbased))\n",
    "\n",
    "print('user_userbased rmse:',rmse_userbased,'--',cnt_userbased)"
   ]
  },
  {
   "cell_type": "markdown",
   "metadata": {},
   "source": [
    "#### Classification Reports"
   ]
  },
  {
   "cell_type": "code",
   "execution_count": 95,
   "metadata": {
    "collapsed": true
   },
   "outputs": [],
   "source": [
    "def ClassificationMetrics(vec_vals,vec_recs,likethreshold=3,shortlist=50,ratingsval=False,vec_test=None):\n",
    "    #convert vals in indxs vec\n",
    "    indxs_like = [i for i in range(len(vec_vals)) if vec_vals[i]>likethreshold]\n",
    "    indxs_dislike = [i for i in range(len(vec_vals)) if vec_vals[i]<=likethreshold and vec_vals[i]>0]\n",
    "    cnt = len(indxs_like)+len(indxs_dislike)\n",
    "    indxs_rec = []\n",
    "    if ratingsval:\n",
    "        #convert ratings into items's list\n",
    "        if vec_test==None:\n",
    "            raise 'Error no test vector'\n",
    "        indxs_rec = [i for i in range(len(vec_recs)) if vec_recs[i]>likethreshold and vec_test[i]<1][:shortlist]\n",
    "    else:\n",
    "        #consider only the first slot of recs\n",
    "        indxs_rec = vec_recs[:shortlist]\n",
    "\n",
    "    tp = len(set(indxs_rec).intersection(set(indxs_like)))\n",
    "    fp = len(set(indxs_rec).intersection(set(indxs_dislike)))\n",
    "    fn = len(set(indxs_like)^(set(indxs_rec).intersection(set(indxs_like))))\n",
    "    precision = 0.\n",
    "    if tp+fp>0:\n",
    "        precision = float(tp)/(tp+fp)\n",
    "    recall = 0.\n",
    "    if tp+fn>0:\n",
    "        recall = float(tp)/(tp+fn)\n",
    "    f1 = 0.\n",
    "    if recall+precision >0:\n",
    "        f1 = 2.*precision*recall/(precision+recall)\n",
    "    \n",
    "    return np.array([precision,recall,f1]),cnt"
   ]
  },
  {
   "cell_type": "markdown",
   "metadata": {},
   "source": [
    "#### 사용자 기반 CF의 Classification Report"
   ]
  },
  {
   "cell_type": "code",
   "execution_count": 96,
   "metadata": {
    "collapsed": false
   },
   "outputs": [
    {
     "name": "stdout",
     "output_type": "stream",
     "text": [
      "fold: 1\n"
     ]
    },
    {
     "name": "stderr",
     "output_type": "stream",
     "text": [
      "/Users/jason/anaconda/lib/python3.6/site-packages/ipykernel/__main__.py:9: FutureWarning: comparison to `None` will result in an elementwise object comparison in the future.\n"
     ]
    },
    {
     "name": "stdout",
     "output_type": "stream",
     "text": [
      "[ 0.57623957  0.16055821  0.23704606]\n",
      "fold: 2\n",
      "[ 0.60393872  0.18389073  0.26630881]\n",
      "fold: 3\n",
      "[ 0.60997713  0.18268191  0.26535908]\n",
      "fold: 4\n",
      "[ 0.61923515  0.17855707  0.26486004]\n",
      "fold: 5\n",
      "[ 0.61366397  0.16932595  0.25359199]\n",
      "/n\n",
      "precision: 0.604610907341  recall: 0.17500277432  f1: 0.257433194405 --- 39928.0\n"
     ]
    }
   ],
   "source": [
    "tot_measures = np.zeros(3)    \n",
    "cnt_vals = 0.\n",
    "#CF memory based\n",
    "for i in range(nfolds):\n",
    "    Umatrix = df_trains[i].values[:,1:]\n",
    "    \n",
    "    print('fold:',i+1)\n",
    "    tot_measures_fold = np.zeros(3)\n",
    "    vals_vecs = vals_vecs_folds[i]\n",
    "    tests_vecs = tests_vecs_folds[i]\n",
    "    \n",
    "    for j in range(len(vals_vecs)):\n",
    "        u_vals = vals_vecs[j]\n",
    "        u_test = tests_vecs[j]\n",
    "        u_preds = CF_userbased(u_test,20,Umatrix)\n",
    "        \n",
    "        tmp_measures,cnt_tmp = ClassificationMetrics(u_vals,u_preds,3,50,True,u_test)\n",
    "        tot_measures_fold +=  tmp_measures\n",
    "        cnt_vals += cnt_tmp\n",
    "        \n",
    "    tot_measures_fold /= float(len(vals_vecs))\n",
    "    print(tot_measures_fold)\n",
    "    tot_measures += tot_measures_fold\n",
    "    \n",
    "tot_measures /= float(nfolds)\n",
    "\n",
    "print('/n')\n",
    "print('precision:',tot_measures[0],' recall:',tot_measures[1],' f1:',tot_measures[2],'---',cnt_vals)"
   ]
  },
  {
   "cell_type": "markdown",
   "metadata": {},
   "source": [
    "#### 아이템 기반 CF의 Classification Report"
   ]
  },
  {
   "cell_type": "code",
   "execution_count": 97,
   "metadata": {
    "collapsed": false
   },
   "outputs": [
    {
     "name": "stdout",
     "output_type": "stream",
     "text": [
      "fold: 1\n"
     ]
    },
    {
     "name": "stderr",
     "output_type": "stream",
     "text": [
      "/Users/jason/anaconda/lib/python3.6/site-packages/ipykernel/__main__.py:9: FutureWarning: comparison to `None` will result in an elementwise object comparison in the future.\n"
     ]
    },
    {
     "name": "stdout",
     "output_type": "stream",
     "text": [
      "[ 0.55580163  0.14017202  0.21124015]\n",
      "fold: 2\n",
      "[ 0.57972669  0.15345869  0.22856806]\n",
      "fold: 3\n",
      "[ 0.55977389  0.13844284  0.21064714]\n",
      "fold: 4\n",
      "[ 0.58311225  0.14445215  0.22230857]\n",
      "fold: 5\n",
      "[ 0.59793147  0.14984474  0.22632978]\n",
      "/n\n",
      "precision: 0.575269184431  recall: 0.145274090414  f1: 0.219818740449 --- 39928.0\n"
     ]
    }
   ],
   "source": [
    "tot_measures = np.zeros(3)    \n",
    "cnt_vals = 0.\n",
    "#CF memory based\n",
    "for i in range(nfolds):\n",
    "    Umatrix = df_trains[i].values[:,1:]\n",
    "    cfitembased = CF_itembased(Umatrix)\n",
    "    \n",
    "    print('fold:',i+1)\n",
    "    tot_measures_fold = np.zeros(3)\n",
    "    vals_vecs = vals_vecs_folds[i]\n",
    "    tests_vecs = tests_vecs_folds[i]\n",
    "    \n",
    "    for j in range(len(vals_vecs)):\n",
    "        u_vals = vals_vecs[j]\n",
    "        u_test = tests_vecs[j]\n",
    "        u_preds = cfitembased.CalcRatings(u_test,5)\n",
    "        \n",
    "        tmp_measures,cnt_tmp = ClassificationMetrics(u_vals,u_preds,3,50,True,u_test)\n",
    "        tot_measures_fold +=  tmp_measures\n",
    "        cnt_vals += cnt_tmp\n",
    "        \n",
    "    tot_measures_fold /= float(len(vals_vecs))\n",
    "    print(tot_measures_fold)\n",
    "    tot_measures += tot_measures_fold\n",
    "    \n",
    "tot_measures /= float(nfolds)\n",
    "\n",
    "print('/n')\n",
    "print('precision:',tot_measures[0],' recall:',tot_measures[1],' f1:',tot_measures[2],'---',cnt_vals)"
   ]
  },
  {
   "cell_type": "markdown",
   "metadata": {},
   "source": [
    "### 모델 기반 협업 필터링 방법으로써, 교대 최소 제곱법(ALS, Alternating Least Square)와 확률 내리막 경사법(SGD, Stochatic Gradient Descent) 방법을 사용하여 추천시스템을 평가하시오."
   ]
  },
  {
   "cell_type": "code",
   "execution_count": 1,
   "metadata": {
    "collapsed": true
   },
   "outputs": [],
   "source": [
    "# ALS 함수"
   ]
  },
  {
   "cell_type": "code",
   "execution_count": 2,
   "metadata": {
    "collapsed": true
   },
   "outputs": [],
   "source": [
    "def ALS(Umatrix, K, iterations=50, l=0.001, tol=0.001):\n",
    "\n",
    "    nrows = len(Umatrix)\n",
    "    ncols = len(Umatrix[0])  \n",
    "    P = np.random.rand(nrows,K)\n",
    "    Q = np.random.rand(ncols,K)\n",
    "    Qt = Q.T\n",
    "    err = 0.\n",
    "    Umatrix = Umatrix.astype(float)\n",
    "    mask = Umatrix>0.\n",
    "    mask[mask==True]=1\n",
    "    mask[mask==False]=0\n",
    "    mask = mask.astype(np.float64, copy=False)\n",
    "    for it in range(iterations):\n",
    "        for u, mask_u in enumerate(mask):\n",
    "            P[u] = np.linalg.solve(np.dot(Qt, np.dot(np.diag(mask_u), Qt.T)) + l*np.eye(K), \n",
    "                                np.dot(Qt, np.dot(np.diag(mask_u), Umatrix[u].T))).T\n",
    "        for i, mask_i in enumerate(mask.T):\n",
    "            Qt[:,i] = np.linalg.solve(np.dot(P.T, np.dot(np.diag(mask_i), P)) + l*np.eye(K),\n",
    "                                np.dot(P.T, np.dot(np.diag(mask_i), Umatrix[:,i])))                            \n",
    "        err=np.sum((mask*(Umatrix - np.dot(P, Qt)))**2)\n",
    "        if err < tol:\n",
    "            break\n",
    "    return np.round(np.dot(P,Qt),0)"
   ]
  },
  {
   "cell_type": "code",
   "execution_count": 3,
   "metadata": {
    "collapsed": true
   },
   "outputs": [],
   "source": [
    "# SGD 함수"
   ]
  },
  {
   "cell_type": "code",
   "execution_count": 4,
   "metadata": {
    "collapsed": true
   },
   "outputs": [],
   "source": [
    "def SGD(Umatrix, K, iterations=100, alpha=0.00001, l=0.001, tol=0.001):\n",
    "\n",
    "    nrows = len(Umatrix)\n",
    "    ncols = len(Umatrix[0])  \n",
    "    P = np.random.rand(nrows,K)\n",
    "    Q = np.random.rand(ncols,K)\n",
    "    Qt = Q.T\n",
    "    cost=-1\n",
    "    for it in range(iterations):\n",
    "        for i in range(nrows):\n",
    "            for j in range(ncols):\n",
    "                if Umatrix[i][j] > 0:\n",
    "                   eij = Umatrix[i][j] -np.dot(P[i,:],Qt[:,j])\n",
    "                   for k in range(K):\n",
    "                       P[i][k] += alpha*(2*eij*Qt[k][j]-l*P[i][k])\n",
    "                       Qt[k][j] += alpha*(2*eij*P[i][k]-l*Qt[k][j]) \n",
    "        cost = 0\n",
    "        for i in range(nrows):\n",
    "            for j in range(ncols):\n",
    "                if Umatrix[i][j]>0:\n",
    "                   cost += pow(Umatrix[i][j]-np.dot(P[i,:],Qt[:,j]),2)\n",
    "                   for k in range(K):\n",
    "                       cost += float(l/2.0)*(pow(P[i][k],2)+pow(Qt[k][j],2))\n",
    "        if cost < tol:\n",
    "           break\n",
    "    return np.round(np.dot(P,Qt),0)"
   ]
  },
  {
   "cell_type": "code",
   "execution_count": null,
   "metadata": {
    "collapsed": true
   },
   "outputs": [],
   "source": []
  }
 ],
 "metadata": {
  "kernelspec": {
   "display_name": "Python 3",
   "language": "python",
   "name": "python3"
  },
  "language_info": {
   "codemirror_mode": {
    "name": "ipython",
    "version": 3
   },
   "file_extension": ".py",
   "mimetype": "text/x-python",
   "name": "python",
   "nbconvert_exporter": "python",
   "pygments_lexer": "ipython3",
   "version": "3.6.0"
  }
 },
 "nbformat": 4,
 "nbformat_minor": 2
}
